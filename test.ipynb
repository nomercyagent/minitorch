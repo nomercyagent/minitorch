{
 "cells": [
  {
   "cell_type": "code",
   "execution_count": 1,
   "metadata": {},
   "outputs": [],
   "source": [
    "from typing import Tuple, List\n",
    "\n",
    "Index = Tuple[int, ...]\n",
    "Shape = Tuple[int, ...]\n",
    "OutIndex = List[int]"
   ]
  },
  {
   "cell_type": "code",
   "execution_count": 2,
   "metadata": {},
   "outputs": [],
   "source": [
    "def broadcast_index(\n",
    "    big_index: Index, big_shape: Shape, shape: Shape, out_index: OutIndex\n",
    ") -> None:\n",
    "    \"\"\"\n",
    "    Convert a `big_index` into `big_shape` to a smaller `out_index`\n",
    "    into `shape` following broadcasting rules. In this case\n",
    "    it may be larger or with more dimensions than the `shape`\n",
    "    given. Additional dimensions may need to be mapped to 0 or\n",
    "    removed.\n",
    "\n",
    "    Args:\n",
    "        big_index : multidimensional index of bigger tensor\n",
    "        big_shape : tensor shape of bigger tensor\n",
    "        shape : tensor shape of smaller tensor\n",
    "        out_index : multidimensional index of smaller tensor\n",
    "\n",
    "    Returns:\n",
    "        None\n",
    "    \"\"\"\n",
    "    # TODO: Implement for Task 2.2.\n",
    "    len1, len2 = len(big_shape), len(shape)\n",
    "    if len1 < len2:\n",
    "        big_shape = (1,) * (len2 - len1) + big_shape\n",
    "        big_index = (0,) * (len2 - len1) + big_index\n",
    "    elif len2 < len1:\n",
    "        shape = (1,) * (len1 - len2) + shape\n",
    "\n",
    "    # Initialize out_index with zeros\n",
    "    out_index[:] = [0] * len(shape)\n",
    "\n",
    "    # Map big_index to out_index following broadcasting rules\n",
    "    for i in range(len(shape)):\n",
    "        if big_shape[i] == 1:\n",
    "            out_index[i] = 0\n",
    "        elif shape[i] == 1:\n",
    "            out_index[i] = 0\n",
    "        else:\n",
    "            out_index[i] = big_index[i]"
   ]
  },
  {
   "cell_type": "code",
   "execution_count": 3,
   "metadata": {},
   "outputs": [],
   "source": [
    "from typing import Tuple, List\n",
    "\n",
    "UserShape = Tuple[int, ...]\n",
    "\n",
    "def shape_broadcast(shape1: UserShape, shape2: UserShape) -> UserShape:\n",
    "    \"\"\"\n",
    "    Broadcast two shapes to create a new union shape.\n",
    "\n",
    "    Args:\n",
    "        shape1 : first shape\n",
    "        shape2 : second shape\n",
    "\n",
    "    Returns:\n",
    "        broadcasted shape\n",
    "\n",
    "    Raises:\n",
    "        IndexingError : if cannot broadcast\n",
    "    \"\"\"\n",
    "    # Make the shapes the same length by adding 1s to the left\n",
    "    len1, len2 = len(shape1), len(shape2)\n",
    "    if len1 < len2:\n",
    "        shape1 = (1,) * (len2 - len1) + shape1\n",
    "    elif len2 < len1:\n",
    "        shape2 = (1,) * (len1 - len2) + shape2\n",
    "\n",
    "    # Check for compatibility and compute the broadcasted shape\n",
    "    broadcasted_shape = []\n",
    "    for s1, s2 in zip(shape1, shape2):\n",
    "        if s1 == s2 or s1 == 1 or s2 == 1:\n",
    "            broadcasted_shape.append(max(s1, s2))\n",
    "        else:\n",
    "            raise IndexingError(f\"Cannot broadcast shapes {shape1} and {shape2}\")\n",
    "\n",
    "    return tuple(broadcasted_shape)"
   ]
  },
  {
   "cell_type": "code",
   "execution_count": 5,
   "metadata": {},
   "outputs": [
    {
     "name": "stdout",
     "output_type": "stream",
     "text": [
      "Broadcasted shape: (1, 2, 4, 5)\n",
      "out_index: [0, 1, 2, 3]\n"
     ]
    }
   ],
   "source": [
    "# Пример использования shape_broadcast\n",
    "shape1 = (1, 4, 5)\n",
    "shape2 = (1, 2, 4, 5)\n",
    "broadcasted_shape = shape_broadcast(shape1, shape2)\n",
    "print(\"Broadcasted shape:\", broadcasted_shape)\n",
    "\n",
    "# Пример использования broadcast_index\n",
    "big_index = (1, 2, 3)\n",
    "big_shape = (3, 4, 5)\n",
    "shape = (1, 2, 4, 5)\n",
    "out_index = [0] * len(shape)\n",
    "\n",
    "broadcast_index(big_index, big_shape, shape, out_index)\n",
    "print(\"out_index:\", out_index)"
   ]
  }
 ],
 "metadata": {
  "kernelspec": {
   "display_name": ".venv",
   "language": "python",
   "name": "python3"
  },
  "language_info": {
   "codemirror_mode": {
    "name": "ipython",
    "version": 3
   },
   "file_extension": ".py",
   "mimetype": "text/x-python",
   "name": "python",
   "nbconvert_exporter": "python",
   "pygments_lexer": "ipython3",
   "version": "3.9.6"
  }
 },
 "nbformat": 4,
 "nbformat_minor": 2
}
